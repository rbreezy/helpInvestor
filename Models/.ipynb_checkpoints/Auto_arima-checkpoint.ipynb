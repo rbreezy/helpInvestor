{
 "cells": [
  {
   "cell_type": "code",
   "execution_count": 1,
   "id": "62baae7d-39c2-4c6e-b382-63581c7d19c8",
   "metadata": {},
   "outputs": [],
   "source": [
    "import pandas as pd\n",
    "import numpy as np\n",
    "import matplotlib.pyplot as plt\n",
    "import statsmodels.api as sm"
   ]
  },
  {
   "cell_type": "code",
   "execution_count": 2,
   "id": "a21aa4e3-ee28-4815-8b1f-34b4be503296",
   "metadata": {},
   "outputs": [],
   "source": [
    "df_train = pd.read_csv('../Dataset/Train_SU63ISt.csv')"
   ]
  },
  {
   "cell_type": "code",
   "execution_count": 3,
   "id": "bfabef94-8a37-49c5-bc2f-3325d34ade9e",
   "metadata": {},
   "outputs": [],
   "source": [
    "df_train['Datetime'] = pd.to_datetime(df_train['Datetime'])\n",
    "df_train = df_train.sort_values(by=['Datetime'])"
   ]
  },
  {
   "cell_type": "code",
   "execution_count": 4,
   "id": "6e882d05-2c48-48bb-8040-60a730a843b6",
   "metadata": {},
   "outputs": [],
   "source": [
    "df_train[\"Is_Weekend\"] = df_train.Datetime.dt.day_name().isin(['Saturday', 'Sunday']).astype(int)\n",
    "df_train[\"Is_peek_hour\"] = df_train.Datetime.dt.hour.isin([10,11,12,13,14,15,16,17,18,19,20]).astype(int)"
   ]
  },
  {
   "cell_type": "code",
   "execution_count": 5,
   "id": "08d6b288-318d-4aa7-913b-4d3052fea968",
   "metadata": {},
   "outputs": [],
   "source": [
    "df_train = df_train.set_index('Datetime').asfreq('1h')"
   ]
  },
  {
   "cell_type": "code",
   "execution_count": 9,
   "id": "7baae0dc-f2b4-4088-92a6-7eb55d10c693",
   "metadata": {},
   "outputs": [
    {
     "data": {
      "text/html": [
       "<div>\n",
       "<style scoped>\n",
       "    .dataframe tbody tr th:only-of-type {\n",
       "        vertical-align: middle;\n",
       "    }\n",
       "\n",
       "    .dataframe tbody tr th {\n",
       "        vertical-align: top;\n",
       "    }\n",
       "\n",
       "    .dataframe thead th {\n",
       "        text-align: right;\n",
       "    }\n",
       "</style>\n",
       "<table border=\"1\" class=\"dataframe\">\n",
       "  <thead>\n",
       "    <tr style=\"text-align: right;\">\n",
       "      <th></th>\n",
       "      <th>ID</th>\n",
       "      <th>Count</th>\n",
       "      <th>Is_Weekend</th>\n",
       "      <th>Is_peek_hour</th>\n",
       "    </tr>\n",
       "    <tr>\n",
       "      <th>Datetime</th>\n",
       "      <th></th>\n",
       "      <th></th>\n",
       "      <th></th>\n",
       "      <th></th>\n",
       "    </tr>\n",
       "  </thead>\n",
       "  <tbody>\n",
       "    <tr>\n",
       "      <th>2012-01-09 00:00:00</th>\n",
       "      <td>False</td>\n",
       "      <td>False</td>\n",
       "      <td>False</td>\n",
       "      <td>False</td>\n",
       "    </tr>\n",
       "    <tr>\n",
       "      <th>2012-01-09 01:00:00</th>\n",
       "      <td>False</td>\n",
       "      <td>False</td>\n",
       "      <td>False</td>\n",
       "      <td>False</td>\n",
       "    </tr>\n",
       "    <tr>\n",
       "      <th>2012-01-09 02:00:00</th>\n",
       "      <td>False</td>\n",
       "      <td>False</td>\n",
       "      <td>False</td>\n",
       "      <td>False</td>\n",
       "    </tr>\n",
       "    <tr>\n",
       "      <th>2012-01-09 03:00:00</th>\n",
       "      <td>False</td>\n",
       "      <td>False</td>\n",
       "      <td>False</td>\n",
       "      <td>False</td>\n",
       "    </tr>\n",
       "    <tr>\n",
       "      <th>2012-01-09 04:00:00</th>\n",
       "      <td>False</td>\n",
       "      <td>False</td>\n",
       "      <td>False</td>\n",
       "      <td>False</td>\n",
       "    </tr>\n",
       "    <tr>\n",
       "      <th>...</th>\n",
       "      <td>...</td>\n",
       "      <td>...</td>\n",
       "      <td>...</td>\n",
       "      <td>...</td>\n",
       "    </tr>\n",
       "    <tr>\n",
       "      <th>2014-12-09 19:00:00</th>\n",
       "      <td>False</td>\n",
       "      <td>False</td>\n",
       "      <td>False</td>\n",
       "      <td>False</td>\n",
       "    </tr>\n",
       "    <tr>\n",
       "      <th>2014-12-09 20:00:00</th>\n",
       "      <td>False</td>\n",
       "      <td>False</td>\n",
       "      <td>False</td>\n",
       "      <td>False</td>\n",
       "    </tr>\n",
       "    <tr>\n",
       "      <th>2014-12-09 21:00:00</th>\n",
       "      <td>False</td>\n",
       "      <td>False</td>\n",
       "      <td>False</td>\n",
       "      <td>False</td>\n",
       "    </tr>\n",
       "    <tr>\n",
       "      <th>2014-12-09 22:00:00</th>\n",
       "      <td>False</td>\n",
       "      <td>False</td>\n",
       "      <td>False</td>\n",
       "      <td>False</td>\n",
       "    </tr>\n",
       "    <tr>\n",
       "      <th>2014-12-09 23:00:00</th>\n",
       "      <td>False</td>\n",
       "      <td>False</td>\n",
       "      <td>False</td>\n",
       "      <td>False</td>\n",
       "    </tr>\n",
       "  </tbody>\n",
       "</table>\n",
       "<p>25584 rows × 4 columns</p>\n",
       "</div>"
      ],
      "text/plain": [
       "                        ID  Count  Is_Weekend  Is_peek_hour\n",
       "Datetime                                                   \n",
       "2012-01-09 00:00:00  False  False       False         False\n",
       "2012-01-09 01:00:00  False  False       False         False\n",
       "2012-01-09 02:00:00  False  False       False         False\n",
       "2012-01-09 03:00:00  False  False       False         False\n",
       "2012-01-09 04:00:00  False  False       False         False\n",
       "...                    ...    ...         ...           ...\n",
       "2014-12-09 19:00:00  False  False       False         False\n",
       "2014-12-09 20:00:00  False  False       False         False\n",
       "2014-12-09 21:00:00  False  False       False         False\n",
       "2014-12-09 22:00:00  False  False       False         False\n",
       "2014-12-09 23:00:00  False  False       False         False\n",
       "\n",
       "[25584 rows x 4 columns]"
      ]
     },
     "execution_count": 9,
     "metadata": {},
     "output_type": "execute_result"
    }
   ],
   "source": [
    "df_train.isnull()"
   ]
  },
  {
   "cell_type": "code",
   "execution_count": 7,
   "id": "45b73d42-c073-4527-bc51-4f73010d2ed1",
   "metadata": {},
   "outputs": [
    {
     "ename": "ValueError",
     "evalue": "This function does not handle missing values",
     "output_type": "error",
     "traceback": [
      "\u001b[0;31m---------------------------------------------------------------------------\u001b[0m",
      "\u001b[0;31mValueError\u001b[0m                                Traceback (most recent call last)",
      "\u001b[0;32m<ipython-input-7-4b936d78bf49>\u001b[0m in \u001b[0;36m<module>\u001b[0;34m\u001b[0m\n\u001b[1;32m      1\u001b[0m \u001b[0;32mfrom\u001b[0m \u001b[0mstatsmodels\u001b[0m\u001b[0;34m.\u001b[0m\u001b[0mtsa\u001b[0m\u001b[0;34m.\u001b[0m\u001b[0mseasonal\u001b[0m \u001b[0;32mimport\u001b[0m \u001b[0mseasonal_decompose\u001b[0m\u001b[0;34m\u001b[0m\u001b[0;34m\u001b[0m\u001b[0m\n\u001b[0;32m----> 2\u001b[0;31m \u001b[0mresult\u001b[0m \u001b[0;34m=\u001b[0m \u001b[0mseasonal_decompose\u001b[0m\u001b[0;34m(\u001b[0m\u001b[0mdf_train\u001b[0m\u001b[0;34m[\u001b[0m\u001b[0;34m'Count'\u001b[0m\u001b[0;34m]\u001b[0m\u001b[0;34m,\u001b[0m \u001b[0mmodel\u001b[0m\u001b[0;34m=\u001b[0m\u001b[0;34m'additive'\u001b[0m\u001b[0;34m,\u001b[0m\u001b[0mextrapolate_trend\u001b[0m\u001b[0;34m=\u001b[0m\u001b[0;34m'freq'\u001b[0m\u001b[0;34m)\u001b[0m\u001b[0;34m\u001b[0m\u001b[0;34m\u001b[0m\u001b[0m\n\u001b[0m\u001b[1;32m      3\u001b[0m \u001b[0mresult\u001b[0m\u001b[0;34m.\u001b[0m\u001b[0mplot\u001b[0m\u001b[0;34m(\u001b[0m\u001b[0;34m)\u001b[0m\u001b[0;34m\u001b[0m\u001b[0;34m\u001b[0m\u001b[0m\n\u001b[1;32m      4\u001b[0m \u001b[0mplt\u001b[0m\u001b[0;34m.\u001b[0m\u001b[0mshow\u001b[0m\u001b[0;34m(\u001b[0m\u001b[0;34m)\u001b[0m\u001b[0;34m\u001b[0m\u001b[0;34m\u001b[0m\u001b[0m\n",
      "\u001b[0;32m/usr/local/lib/python3.7/site-packages/statsmodels/tsa/seasonal.py\u001b[0m in \u001b[0;36mseasonal_decompose\u001b[0;34m(x, model, filt, period, two_sided, extrapolate_trend)\u001b[0m\n\u001b[1;32m    144\u001b[0m \u001b[0;34m\u001b[0m\u001b[0m\n\u001b[1;32m    145\u001b[0m     \u001b[0;32mif\u001b[0m \u001b[0;32mnot\u001b[0m \u001b[0mnp\u001b[0m\u001b[0;34m.\u001b[0m\u001b[0mall\u001b[0m\u001b[0;34m(\u001b[0m\u001b[0mnp\u001b[0m\u001b[0;34m.\u001b[0m\u001b[0misfinite\u001b[0m\u001b[0;34m(\u001b[0m\u001b[0mx\u001b[0m\u001b[0;34m)\u001b[0m\u001b[0;34m)\u001b[0m\u001b[0;34m:\u001b[0m\u001b[0;34m\u001b[0m\u001b[0;34m\u001b[0m\u001b[0m\n\u001b[0;32m--> 146\u001b[0;31m         \u001b[0;32mraise\u001b[0m \u001b[0mValueError\u001b[0m\u001b[0;34m(\u001b[0m\u001b[0;34m\"This function does not handle missing values\"\u001b[0m\u001b[0;34m)\u001b[0m\u001b[0;34m\u001b[0m\u001b[0;34m\u001b[0m\u001b[0m\n\u001b[0m\u001b[1;32m    147\u001b[0m     \u001b[0;32mif\u001b[0m \u001b[0mmodel\u001b[0m\u001b[0;34m.\u001b[0m\u001b[0mstartswith\u001b[0m\u001b[0;34m(\u001b[0m\u001b[0;34m\"m\"\u001b[0m\u001b[0;34m)\u001b[0m\u001b[0;34m:\u001b[0m\u001b[0;34m\u001b[0m\u001b[0;34m\u001b[0m\u001b[0m\n\u001b[1;32m    148\u001b[0m         \u001b[0;32mif\u001b[0m \u001b[0mnp\u001b[0m\u001b[0;34m.\u001b[0m\u001b[0many\u001b[0m\u001b[0;34m(\u001b[0m\u001b[0mx\u001b[0m \u001b[0;34m<=\u001b[0m \u001b[0;36m0\u001b[0m\u001b[0;34m)\u001b[0m\u001b[0;34m:\u001b[0m\u001b[0;34m\u001b[0m\u001b[0;34m\u001b[0m\u001b[0m\n",
      "\u001b[0;31mValueError\u001b[0m: This function does not handle missing values"
     ]
    }
   ],
   "source": [
    "from statsmodels.tsa.seasonal import seasonal_decompose\n",
    "result = seasonal_decompose(df_train['Count'], model='additive',extrapolate_trend='freq')\n",
    "result.plot()\n",
    "plt.show()"
   ]
  },
  {
   "cell_type": "code",
   "execution_count": null,
   "id": "d8feaf3d-62b1-4094-b3ed-66dccd79c912",
   "metadata": {},
   "outputs": [],
   "source": []
  },
  {
   "cell_type": "code",
   "execution_count": 10,
   "id": "16f3f05c-d2a8-401b-8a34-02cbf83b6d9c",
   "metadata": {},
   "outputs": [
    {
     "name": "stderr",
     "output_type": "stream",
     "text": [
      "/usr/local/lib/python3.7/site-packages/statsmodels/tsa/base/tsa_model.py:471: ValueWarning: An unsupported index was provided and will be ignored when e.g. forecasting.\n",
      "  self._init_dates(dates, freq)\n",
      "/usr/local/lib/python3.7/site-packages/statsmodels/tsa/base/tsa_model.py:471: ValueWarning: An unsupported index was provided and will be ignored when e.g. forecasting.\n",
      "  self._init_dates(dates, freq)\n",
      "/usr/local/lib/python3.7/site-packages/statsmodels/base/model.py:606: ConvergenceWarning: Maximum Likelihood optimization failed to converge. Check mle_retvals\n",
      "  ConvergenceWarning)\n"
     ]
    },
    {
     "data": {
      "text/html": [
       "<table class=\"simpletable\">\n",
       "<caption>SARIMAX Results</caption>\n",
       "<tr>\n",
       "  <th>Dep. Variable:</th>                <td>Count</td>             <th>  No. Observations:  </th>    <td>18288</td>  \n",
       "</tr>\n",
       "<tr>\n",
       "  <th>Model:</th>           <td>SARIMAX(2, 1, 1)x(1, 1, 1, 24)</td> <th>  Log Likelihood     </th> <td>-91278.994</td>\n",
       "</tr>\n",
       "<tr>\n",
       "  <th>Date:</th>                   <td>Wed, 30 Nov 2022</td>        <th>  AIC                </th> <td>182573.988</td>\n",
       "</tr>\n",
       "<tr>\n",
       "  <th>Time:</th>                       <td>20:02:26</td>            <th>  BIC                </th> <td>182636.489</td>\n",
       "</tr>\n",
       "<tr>\n",
       "  <th>Sample:</th>                         <td>0</td>               <th>  HQIC               </th> <td>182594.526</td>\n",
       "</tr>\n",
       "<tr>\n",
       "  <th></th>                            <td> - 18288</td>            <th>                     </th>      <td> </td>    \n",
       "</tr>\n",
       "<tr>\n",
       "  <th>Covariance Type:</th>               <td>opg</td>              <th>                     </th>      <td> </td>    \n",
       "</tr>\n",
       "</table>\n",
       "<table class=\"simpletable\">\n",
       "<tr>\n",
       "        <td></td>          <th>coef</th>     <th>std err</th>      <th>z</th>      <th>P>|z|</th>  <th>[0.025</th>    <th>0.975]</th>  \n",
       "</tr>\n",
       "<tr>\n",
       "  <th>Is_Weekend</th>   <td>   -6.6203</td> <td>    1.150</td> <td>   -5.759</td> <td> 0.000</td> <td>   -8.873</td> <td>   -4.367</td>\n",
       "</tr>\n",
       "<tr>\n",
       "  <th>Is_peek_hour</th> <td> -2.28e-05</td> <td> 1.23e-07</td> <td> -185.686</td> <td> 0.000</td> <td> -2.3e-05</td> <td>-2.26e-05</td>\n",
       "</tr>\n",
       "<tr>\n",
       "  <th>ar.L1</th>        <td>    0.7583</td> <td>    0.003</td> <td>  238.810</td> <td> 0.000</td> <td>    0.752</td> <td>    0.765</td>\n",
       "</tr>\n",
       "<tr>\n",
       "  <th>ar.L2</th>        <td>    0.1587</td> <td>    0.004</td> <td>   43.904</td> <td> 0.000</td> <td>    0.152</td> <td>    0.166</td>\n",
       "</tr>\n",
       "<tr>\n",
       "  <th>ma.L1</th>        <td>   -0.9996</td> <td>    0.000</td> <td>-4145.544</td> <td> 0.000</td> <td>   -1.000</td> <td>   -0.999</td>\n",
       "</tr>\n",
       "<tr>\n",
       "  <th>ar.S.L24</th>     <td>    0.0467</td> <td>    0.004</td> <td>   12.291</td> <td> 0.000</td> <td>    0.039</td> <td>    0.054</td>\n",
       "</tr>\n",
       "<tr>\n",
       "  <th>ma.S.L24</th>     <td>   -0.9700</td> <td>    0.001</td> <td>-1064.399</td> <td> 0.000</td> <td>   -0.972</td> <td>   -0.968</td>\n",
       "</tr>\n",
       "<tr>\n",
       "  <th>sigma2</th>       <td> 1279.0057</td> <td>    3.821</td> <td>  334.771</td> <td> 0.000</td> <td> 1271.518</td> <td> 1286.494</td>\n",
       "</tr>\n",
       "</table>\n",
       "<table class=\"simpletable\">\n",
       "<tr>\n",
       "  <th>Ljung-Box (L1) (Q):</th>     <td>1.01</td>  <th>  Jarque-Bera (JB):  </th> <td>525513.97</td>\n",
       "</tr>\n",
       "<tr>\n",
       "  <th>Prob(Q):</th>                <td>0.32</td>  <th>  Prob(JB):          </th>   <td>0.00</td>   \n",
       "</tr>\n",
       "<tr>\n",
       "  <th>Heteroskedasticity (H):</th> <td>12.60</td> <th>  Skew:              </th>   <td>1.84</td>   \n",
       "</tr>\n",
       "<tr>\n",
       "  <th>Prob(H) (two-sided):</th>    <td>0.00</td>  <th>  Kurtosis:          </th>   <td>29.02</td>  \n",
       "</tr>\n",
       "</table><br/><br/>Warnings:<br/>[1] Covariance matrix calculated using the outer product of gradients (complex-step).<br/>[2] Covariance matrix is singular or near-singular, with condition number 3.86e+23. Standard errors may be unstable."
      ],
      "text/plain": [
       "<class 'statsmodels.iolib.summary.Summary'>\n",
       "\"\"\"\n",
       "                                     SARIMAX Results                                      \n",
       "==========================================================================================\n",
       "Dep. Variable:                              Count   No. Observations:                18288\n",
       "Model:             SARIMAX(2, 1, 1)x(1, 1, 1, 24)   Log Likelihood              -91278.994\n",
       "Date:                            Wed, 30 Nov 2022   AIC                         182573.988\n",
       "Time:                                    20:02:26   BIC                         182636.489\n",
       "Sample:                                         0   HQIC                        182594.526\n",
       "                                          - 18288                                         \n",
       "Covariance Type:                              opg                                         \n",
       "================================================================================\n",
       "                   coef    std err          z      P>|z|      [0.025      0.975]\n",
       "--------------------------------------------------------------------------------\n",
       "Is_Weekend      -6.6203      1.150     -5.759      0.000      -8.873      -4.367\n",
       "Is_peek_hour  -2.28e-05   1.23e-07   -185.686      0.000    -2.3e-05   -2.26e-05\n",
       "ar.L1            0.7583      0.003    238.810      0.000       0.752       0.765\n",
       "ar.L2            0.1587      0.004     43.904      0.000       0.152       0.166\n",
       "ma.L1           -0.9996      0.000  -4145.544      0.000      -1.000      -0.999\n",
       "ar.S.L24         0.0467      0.004     12.291      0.000       0.039       0.054\n",
       "ma.S.L24        -0.9700      0.001  -1064.399      0.000      -0.972      -0.968\n",
       "sigma2        1279.0057      3.821    334.771      0.000    1271.518    1286.494\n",
       "===================================================================================\n",
       "Ljung-Box (L1) (Q):                   1.01   Jarque-Bera (JB):            525513.97\n",
       "Prob(Q):                              0.32   Prob(JB):                         0.00\n",
       "Heteroskedasticity (H):              12.60   Skew:                             1.84\n",
       "Prob(H) (two-sided):                  0.00   Kurtosis:                        29.02\n",
       "===================================================================================\n",
       "\n",
       "Warnings:\n",
       "[1] Covariance matrix calculated using the outer product of gradients (complex-step).\n",
       "[2] Covariance matrix is singular or near-singular, with condition number 3.86e+23. Standard errors may be unstable.\n",
       "\"\"\""
      ]
     },
     "execution_count": 10,
     "metadata": {},
     "output_type": "execute_result"
    }
   ],
   "source": [
    "SARIMA_model = sm.tsa.statespace.SARIMAX(df_train['Count'], exog=df_train[['Is_Weekend','Is_peek_hour']] ,\n",
    "                                         order=(2, 1, 1),seasonal_order=(1, 1, 1, 24)).fit()\n",
    "SARIMA_model.summary()"
   ]
  },
  {
   "cell_type": "code",
   "execution_count": 11,
   "id": "c59ecd59-40a3-4850-8b95-76ac547dbf6b",
   "metadata": {},
   "outputs": [],
   "source": [
    "# test \n",
    "df_test = pd.read_csv('../Dataset/Test_0qrQsBZ.csv')"
   ]
  },
  {
   "cell_type": "code",
   "execution_count": 14,
   "id": "f50cbcd8-29f6-4710-9307-566e4fd2e2cf",
   "metadata": {},
   "outputs": [],
   "source": [
    "df_test['Datetime'] = pd.to_datetime(df_test['Datetime'])\n",
    "df_test = df_test.sort_values(by=['Datetime'])"
   ]
  },
  {
   "cell_type": "code",
   "execution_count": 15,
   "id": "c06593f8-b0b4-4f2b-98db-e0442fb9442f",
   "metadata": {},
   "outputs": [],
   "source": [
    "df_test[\"Is_Weekend\"] = df_test.Datetime.dt.day_name().isin(['Saturday', 'Sunday']).astype(int)\n",
    "df_test[\"Is_peek_hour\"] = df_test.Datetime.dt.hour.isin([10,11,12,13,14,15,16,17,18,19,20]).astype(int)"
   ]
  },
  {
   "cell_type": "code",
   "execution_count": 16,
   "id": "d7984d6a-2780-4854-a4be-1cf424f31191",
   "metadata": {},
   "outputs": [
    {
     "name": "stderr",
     "output_type": "stream",
     "text": [
      "/usr/local/lib/python3.7/site-packages/statsmodels/tsa/base/tsa_model.py:843: ValueWarning: No supported index is available. Prediction results will be given with an integer index beginning at `start`.\n",
      "  data=self.data,\n"
     ]
    }
   ],
   "source": [
    "df_pred = SARIMA_model.predict(start=18288, end=23399, exog=df_test[['Is_Weekend','Is_peek_hour']])"
   ]
  },
  {
   "cell_type": "code",
   "execution_count": 18,
   "id": "6a33aa1d-0e29-4253-b082-01e91113e588",
   "metadata": {},
   "outputs": [],
   "source": [
    "df_pred = df_pred.reset_index()\n",
    "df_pred.rename(columns={'predicted_mean': 'Count', 'index':'ID'},\n",
    "          inplace=True, errors='raise')"
   ]
  },
  {
   "cell_type": "code",
   "execution_count": 19,
   "id": "06d1c473-8fde-4d13-8ee8-37091f3ee6bb",
   "metadata": {},
   "outputs": [],
   "source": [
    "final = pd.merge(df_test,df_pred,on='ID')"
   ]
  },
  {
   "cell_type": "code",
   "execution_count": 20,
   "id": "b2644da1-7a22-4932-a85b-f2f0cfcb499c",
   "metadata": {},
   "outputs": [],
   "source": [
    "final[['ID','Count']].to_csv('auto_arima.csv',index=False)"
   ]
  },
  {
   "cell_type": "code",
   "execution_count": null,
   "id": "bc13381f-fa80-49f4-bc36-1d905fcaff34",
   "metadata": {},
   "outputs": [],
   "source": []
  }
 ],
 "metadata": {
  "kernelspec": {
   "display_name": "Python 3",
   "language": "python",
   "name": "python3"
  },
  "language_info": {
   "codemirror_mode": {
    "name": "ipython",
    "version": 3
   },
   "file_extension": ".py",
   "mimetype": "text/x-python",
   "name": "python",
   "nbconvert_exporter": "python",
   "pygments_lexer": "ipython3",
   "version": "3.7.3"
  }
 },
 "nbformat": 4,
 "nbformat_minor": 5
}
