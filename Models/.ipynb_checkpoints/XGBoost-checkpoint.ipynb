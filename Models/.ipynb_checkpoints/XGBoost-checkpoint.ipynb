{
 "cells": [
  {
   "cell_type": "code",
   "execution_count": 1,
   "id": "d4b8c476",
   "metadata": {},
   "outputs": [],
   "source": [
    "import pandas as pd\n",
    "import numpy as np\n",
    "from sklearn.model_selection import train_test_split\n",
    "from xgboost import XGBRegressor\n",
    "from xgboost import plot_importance, plot_tree\n",
    "from sklearn.model_selection import GridSearchCV\n",
    "import holidays"
   ]
  },
  {
   "cell_type": "code",
   "execution_count": 2,
   "id": "daddd608",
   "metadata": {},
   "outputs": [],
   "source": [
    "class dataTransformer:\n",
    "    '''Transformer class to transform the data'''\n",
    "    def __init__(self, col_name):\n",
    "        self.featue_col = col_name\n",
    "        \n",
    "    def deriveSeasons(self, X):\n",
    "        X['season'] = [month%12 // 3 + 1 for month in X[self.featue_col].dt.month]\n",
    "        return X\n",
    "        \n",
    "    def deriveBusinessHrs(self, X):\n",
    "        X['temp'] = [1 if ((x > 7) & (x < 18)) else 0 for x in X[self.featue_col].dt.hour]\n",
    "        X['business_hrs'] = [1 if ((x['temp'] == 1) & (x['public_holiday'] == 0)) else 0 for _,x in X.iterrows()]\n",
    "        return X\n",
    "        \n",
    "    def derivePublicHoliday(self, X):\n",
    "        us_holidays = holidays.US()\n",
    "        X['public_holiday'] = [1 if x in us_holidays else 0 for x in X[self.featue_col].dt.date]\n",
    "        return X\n",
    "    \n",
    "    def deriveDayOfTheMonth(self, X):\n",
    "        X['day_of_month'] = X[self.featue_col].dt.day\n",
    "        return X\n",
    "    \n",
    "    def deriveDayOfTheYear(self, X):\n",
    "        X['day_of_year'] = X[self.featue_col].dt.dayofyear\n",
    "        return X\n",
    "    \n",
    "    def deriveDayOfWeek(self, X):\n",
    "        X['day_of_week'] = X[self.featue_col].dt.dayofweek\n",
    "        return X\n",
    "    \n",
    "    def deriveQuarter(self, X):\n",
    "        X['quarter'] = X[self.featue_col].dt.quarter\n",
    "        return X\n",
    "    \n",
    "    def deriveMonth(self, X):\n",
    "        X['month'] = X[self.featue_col].dt.month    \n",
    "        return X\n",
    "    \n",
    "    def deriveHour(self, X):\n",
    "        X['hour'] = X[self.featue_col].dt.hour\n",
    "        return X\n",
    "    \n",
    "    def deriveYear(self, X):\n",
    "        X['year'] = X[self.featue_col].dt.year\n",
    "        return X\n",
    "    \n",
    "    def deriveWeekOfYear(self, X):\n",
    "        X['weekofyear'] = X[self.featue_col].dt.weekofyear\n",
    "        return X\n",
    "    \n",
    "    def deriveIsWeekeend(self, X):\n",
    "        X[\"Is_Weekend\"] = X.Datetime.dt.day_name().isin(['Saturday', 'Sunday']).astype(int)\n",
    "        return X\n",
    "    \n",
    "    def generated_lagged_features(self, X, var, max_lag, train = True):\n",
    "        for t in range(1, max_lag+1):\n",
    "            X[var+'_lag'+str(t)] = X[var].shift(24*t)\n",
    "        return X\n",
    "    \n",
    "    def transform(self, X, train = True):\n",
    "        X = self.derivePublicHoliday(X)\n",
    "        X = self.deriveSeasons(X)\n",
    "        X = self.deriveBusinessHrs(X)\n",
    "        X = self.deriveDayOfTheMonth(X)\n",
    "        X = self.deriveDayOfTheYear(X)\n",
    "        X = self.deriveDayOfWeek(X)\n",
    "        X = self.deriveQuarter(X)\n",
    "        X = self.deriveMonth(X)\n",
    "        X = self.deriveHour(X)\n",
    "        X = self.deriveYear(X)\n",
    "        X = self.deriveWeekOfYear(X)\n",
    "        X = self.deriveIsWeekeend(X)\n",
    "        if train == True:\n",
    "            X = self.generated_lagged_features(X,'Count',7,train)\n",
    "            X = X.dropna()\n",
    "            feat = X[['day_of_month','day_of_year','day_of_week',\n",
    "                      'hour','Is_Weekend','public_holiday','business_hrs',\n",
    "                 'Count_lag1','Count_lag2','Count_lag3','Count_lag4','Count_lag5','Count_lag6','Count_lag7']]\n",
    "        else:\n",
    "            feat = X[['day_of_month','day_of_year','day_of_week',\n",
    "                      'hour','Is_Weekend','public_holiday','business_hrs']]\n",
    "        if train:\n",
    "            label = X[['Count']]\n",
    "            return feat, label\n",
    "        else:\n",
    "            return feat"
   ]
  },
  {
   "cell_type": "code",
   "execution_count": 3,
   "id": "cd1ab83f",
   "metadata": {},
   "outputs": [],
   "source": [
    "class model_def:\n",
    "    def train_test_split(self, X, y, size = 0.10):\n",
    "        train_X, test_X, train_y, test_y = train_test_split(X, y, test_size=size)\n",
    "        self.train_X = train_X\n",
    "        self.test_X = test_X\n",
    "        self.train_y = train_y\n",
    "        self.test_y = test_y\n",
    "        return\n",
    "    \n",
    "    def get_model(self):\n",
    "        self.model = XGBRegressor(n_estimators = 1000)\n",
    "        return\n",
    "    \n",
    "    def fit_model(self, verbose=False):\n",
    "        self.model.fit(self.train_X, self.train_y, \n",
    "             eval_set=[(self.test_X, self.test_y)], verbose=False)\n",
    "        return\n",
    "    \n",
    "    def predict_future(self, test_df, y):\n",
    "        self.predictions = []\n",
    "        for _,x in test_df.iterrows():\n",
    "            x['Count_lag1'] = y.iloc[[y.shape[0]-1-24*1]]['Count'].iloc[0]\n",
    "            x['Count_lag2'] = y.iloc[[y.shape[0]-1-24*2]]['Count'].iloc[0]\n",
    "            x['Count_lag3'] = y.iloc[[y.shape[0]-1-24*3]]['Count'].iloc[0]\n",
    "            x['Count_lag4'] = y.iloc[[y.shape[0]-1-24*4]]['Count'].iloc[0]\n",
    "            x['Count_lag5'] = y.iloc[[y.shape[0]-1-24*5]]['Count'].iloc[0]\n",
    "            x['Count_lag6'] = y.iloc[[y.shape[0]-1-24*6]]['Count'].iloc[0]\n",
    "            x['Count_lag7'] = y.iloc[[y.shape[0]-1-24*7]]['Count'].iloc[0]\n",
    "            t = self.model.predict(pd.DataFrame(x).T)\n",
    "            self.predictions.append(t)\n",
    "            y = y.append(dict(zip(y.columns, t)), ignore_index=True)\n",
    "        return\n",
    "        \n",
    "        # simple\n",
    "        #self.predictions = self.model.predict(test_df)"
   ]
  },
  {
   "cell_type": "code",
   "execution_count": 4,
   "id": "565694c6",
   "metadata": {},
   "outputs": [],
   "source": [
    "def hyperParameterTuning(X_train, y_train):\n",
    "    param_tuning = {\n",
    "        'learning_rate': [0.001, 0.01, 0.1],\n",
    "        'max_depth': [3, 5, 7, 10],\n",
    "        'min_child_weight': [1, 3, 5],\n",
    "        'subsample': [0.5, 0.7],\n",
    "        'colsample_bytree': [0.5, 0.7],\n",
    "        'n_estimators' : [100, 200, 500],\n",
    "        'objective': ['reg:squarederror'],\n",
    "        'eval_metric': ['rmse']\n",
    "    }\n",
    "\n",
    "    xgb_model = XGBRegressor()\n",
    "\n",
    "    gsearch = GridSearchCV(estimator = xgb_model,\n",
    "                           param_grid = param_tuning,               \n",
    "                           cv = 5,\n",
    "                           n_jobs = -1,\n",
    "                           verbose = 1)\n",
    "\n",
    "    gsearch.fit(X_train,y_train)\n",
    "\n",
    "    return gsearch.best_params_"
   ]
  },
  {
   "cell_type": "code",
   "execution_count": 5,
   "id": "9ee41963",
   "metadata": {},
   "outputs": [
    {
     "name": "stderr",
     "output_type": "stream",
     "text": [
      "/usr/local/lib/python3.7/site-packages/ipykernel_launcher.py:49: FutureWarning: Series.dt.weekofyear and Series.dt.week have been deprecated.  Please use Series.dt.isocalendar().week instead.\n"
     ]
    }
   ],
   "source": [
    "df_train = pd.read_csv('../Dataset/Train_SU63ISt.csv')\n",
    "df_train['Datetime'] = pd.to_datetime(df_train['Datetime'])\n",
    "transformer = dataTransformer(col_name='Datetime')\n",
    "X, y = transformer.transform(df_train, train = True)"
   ]
  },
  {
   "cell_type": "code",
   "execution_count": 6,
   "id": "28fa0af8",
   "metadata": {},
   "outputs": [],
   "source": [
    "#hyperParameterTuning(X,y)"
   ]
  },
  {
   "cell_type": "code",
   "execution_count": 7,
   "id": "f122d19e",
   "metadata": {},
   "outputs": [
    {
     "data": {
      "text/plain": [
       "\"\\n{'colsample_bytree': 0.7,\\n 'eval_metric': 'rmse',\\n 'learning_rate': 0.001,\\n 'max_depth': 3,\\n 'min_child_weight': 1,\\n 'n_estimators': 200,\\n 'objective': 'reg:squarederror',\\n 'subsample': 0.5}\\n\""
      ]
     },
     "execution_count": 7,
     "metadata": {},
     "output_type": "execute_result"
    }
   ],
   "source": [
    "# best param\n",
    "\"\"\"\n",
    "{'colsample_bytree': 0.7,\n",
    " 'eval_metric': 'rmse',\n",
    " 'learning_rate': 0.001,\n",
    " 'max_depth': 3,\n",
    " 'min_child_weight': 1,\n",
    " 'n_estimators': 200,\n",
    " 'objective': 'reg:squarederror',\n",
    " 'subsample': 0.5}\n",
    "\"\"\""
   ]
  },
  {
   "cell_type": "code",
   "execution_count": null,
   "id": "e0defe43-db10-4537-84b3-526019cc8de5",
   "metadata": {},
   "outputs": [
    {
     "name": "stdout",
     "output_type": "stream",
     "text": [
      "[15:44:58] WARNING: src/objective/regression_obj.cu:152: reg:linear is now deprecated in favor of reg:squarederror.\n"
     ]
    }
   ],
   "source": [
    "model = model_def()\n",
    "model.train_test_split(X, y)\n",
    "model.get_model()\n",
    "model.fit_model()"
   ]
  },
  {
   "cell_type": "code",
   "execution_count": null,
   "id": "3ffc217d-250e-4230-86b2-fa36917aa600",
   "metadata": {},
   "outputs": [],
   "source": [
    "df_test = pd.read_csv('../Dataset/Test_0qrQsBZ.csv')\n",
    "df_test['Datetime'] = pd.to_datetime(df_test['Datetime'])"
   ]
  },
  {
   "cell_type": "code",
   "execution_count": null,
   "id": "c68a07a4-053a-48d6-a181-7c42a9e21e1a",
   "metadata": {},
   "outputs": [
    {
     "name": "stderr",
     "output_type": "stream",
     "text": [
      "/usr/local/lib/python3.7/site-packages/ipykernel_launcher.py:49: FutureWarning: Series.dt.weekofyear and Series.dt.week have been deprecated.  Please use Series.dt.isocalendar().week instead.\n"
     ]
    }
   ],
   "source": [
    "X_test = transformer.transform(df_test, train = False)"
   ]
  },
  {
   "cell_type": "code",
   "execution_count": null,
   "id": "3ea0fa8d-6e76-42e8-b8db-09c1958c248d",
   "metadata": {},
   "outputs": [],
   "source": [
    "model.predict_future(X_test,y)"
   ]
  },
  {
   "cell_type": "code",
   "execution_count": null,
   "id": "cd104c62-37b4-4f00-b71c-4da2ed36bb48",
   "metadata": {},
   "outputs": [],
   "source": [
    "y = pd.DataFrame(model.predictions, columns = ['Count'])\n",
    "final = pd.concat([df_test['ID'],y],axis=1)\n",
    "final.to_csv('XG.csv',index=False)"
   ]
  },
  {
   "cell_type": "code",
   "execution_count": 14,
   "id": "076eb609",
   "metadata": {},
   "outputs": [
    {
     "data": {
      "text/plain": [
       "<matplotlib.axes._subplots.AxesSubplot at 0x12de117f0>"
      ]
     },
     "execution_count": 14,
     "metadata": {},
     "output_type": "execute_result"
    },
    {
     "data": {
      "image/png": "[encoded data removed]",
      "text/plain": [
       "<Figure size 432x288 with 1 Axes>"
      ]
     },
     "metadata": {
      "needs_background": "light"
     },
     "output_type": "display_data"
    }
   ],
   "source": [
    "plot_importance(model.model, height=0.9)"
   ]
  },
  {
   "cell_type": "code",
   "execution_count": null,
   "id": "3b112b14-f0e7-4fcc-a8e1-f63990093f10",
   "metadata": {},
   "outputs": [],
   "source": []
  }
 ],
 "metadata": {
  "kernelspec": {
   "display_name": "Python 3",
   "language": "python",
   "name": "python3"
  },
  "language_info": {
   "codemirror_mode": {
    "name": "ipython",
    "version": 3
   },
   "file_extension": ".py",
   "mimetype": "text/x-python",
   "name": "python",
   "nbconvert_exporter": "python",
   "pygments_lexer": "ipython3",
   "version": "3.7.3"
  }
 },
 "nbformat": 4,
 "nbformat_minor": 5
}
