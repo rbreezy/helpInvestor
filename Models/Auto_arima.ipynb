{
 "cells": [
  {
   "cell_type": "code",
   "execution_count": 1,
   "id": "62baae7d-39c2-4c6e-b382-63581c7d19c8",
   "metadata": {},
   "outputs": [],
   "source": [
    "import pandas as pd\n",
    "import numpy as np\n",
    "import matplotlib.pyplot as plt\n",
    "import statsmodels.api as sm"
   ]
  },
  {
   "cell_type": "code",
   "execution_count": 2,
   "id": "a21aa4e3-ee28-4815-8b1f-34b4be503296",
   "metadata": {},
   "outputs": [],
   "source": [
    "df_train = pd.read_csv('../Dataset/Train_SU63ISt.csv')"
   ]
  },
  {
   "cell_type": "code",
   "execution_count": 3,
   "id": "bfabef94-8a37-49c5-bc2f-3325d34ade9e",
   "metadata": {},
   "outputs": [],
   "source": [
    "df_train['Datetime'] = pd.to_datetime(df_train['Datetime'])\n",
    "df_train = df_train.sort_values(by=['Datetime'])"
   ]
  },
  {
   "cell_type": "code",
   "execution_count": 4,
   "id": "6e882d05-2c48-48bb-8040-60a730a843b6",
   "metadata": {},
   "outputs": [],
   "source": [
    "df_train[\"Is_Weekend\"] = df_train.Datetime.dt.day_name().isin(['Saturday', 'Sunday']).astype(int)\n",
    "df_train[\"Is_peek_hour\"] = df_train.Datetime.dt.hour.isin([10,11,12,13,14,15,16,17,18,19,20]).astype(int)"
   ]
  },
  {
   "cell_type": "code",
   "execution_count": 5,
   "id": "27868d7a-e2bb-4351-8f8b-536629caf346",
   "metadata": {},
   "outputs": [],
   "source": [
    "from statsmodels.tsa.seasonal import seasonal_decompose\n",
    "\n",
    "df_train.set_index('Datetime', inplace=True)"
   ]
  },
  {
   "cell_type": "code",
   "execution_count": 6,
   "id": "6778fabb-be6d-4b87-aedf-6e1f78e556bb",
   "metadata": {},
   "outputs": [
    {
     "ename": "NameError",
     "evalue": "name 'analysis' is not defined",
     "output_type": "error",
     "traceback": [
      "\u001b[0;31m---------------------------------------------------------------------------\u001b[0m",
      "\u001b[0;31mNameError\u001b[0m                                 Traceback (most recent call last)",
      "\u001b[0;32m<ipython-input-6-8eabf73cf696>\u001b[0m in \u001b[0;36m<module>\u001b[0;34m\u001b[0m\n\u001b[0;32m----> 1\u001b[0;31m \u001b[0mdecompose_result_mult\u001b[0m \u001b[0;34m=\u001b[0m \u001b[0mseasonal_decompose\u001b[0m\u001b[0;34m(\u001b[0m\u001b[0manalysis\u001b[0m\u001b[0;34m,\u001b[0m \u001b[0mmodel\u001b[0m\u001b[0;34m=\u001b[0m\u001b[0;34m\"multiplicative\"\u001b[0m\u001b[0;34m,\u001b[0m \u001b[0mperiod\u001b[0m\u001b[0;34m=\u001b[0m\u001b[0;36m24\u001b[0m\u001b[0;34m)\u001b[0m\u001b[0;34m\u001b[0m\u001b[0;34m\u001b[0m\u001b[0m\n\u001b[0m\u001b[1;32m      2\u001b[0m \u001b[0;34m\u001b[0m\u001b[0m\n\u001b[1;32m      3\u001b[0m \u001b[0mtrend\u001b[0m \u001b[0;34m=\u001b[0m \u001b[0mdecompose_result_mult\u001b[0m\u001b[0;34m.\u001b[0m\u001b[0mtrend\u001b[0m\u001b[0;34m\u001b[0m\u001b[0;34m\u001b[0m\u001b[0m\n\u001b[1;32m      4\u001b[0m \u001b[0mseasonal\u001b[0m \u001b[0;34m=\u001b[0m \u001b[0mdecompose_result_mult\u001b[0m\u001b[0;34m.\u001b[0m\u001b[0mseasonal\u001b[0m\u001b[0;34m\u001b[0m\u001b[0;34m\u001b[0m\u001b[0m\n\u001b[1;32m      5\u001b[0m \u001b[0mresidual\u001b[0m \u001b[0;34m=\u001b[0m \u001b[0mdecompose_result_mult\u001b[0m\u001b[0;34m.\u001b[0m\u001b[0mresid\u001b[0m\u001b[0;34m\u001b[0m\u001b[0;34m\u001b[0m\u001b[0m\n",
      "\u001b[0;31mNameError\u001b[0m: name 'analysis' is not defined"
     ]
    }
   ],
   "source": [
    "decompose_result_mult = seasonal_decompose(analysis, model=\"multiplicative\", period=24)\n",
    "\n",
    "trend = decompose_result_mult.trend\n",
    "seasonal = decompose_result_mult.seasonal\n",
    "residual = decompose_result_mult.resid\n",
    "\n",
    "decompose_result_mult.plot();"
   ]
  },
  {
   "cell_type": "code",
   "execution_count": 18,
   "id": "d8feaf3d-62b1-4094-b3ed-66dccd79c912",
   "metadata": {},
   "outputs": [
    {
     "data": {
      "image/png": "[encoded data removed]",
      "text/plain": [
       "<Figure size 432x288 with 1 Axes>"
      ]
     },
     "metadata": {
      "needs_background": "light"
     },
     "output_type": "display_data"
    }
   ],
   "source": [
    "sm.graphics.tsa.plot_pacf(seasonal.diff().dropna().values.squeeze(), lags=20, method=\"ywm\")\n",
    "plt.show()"
   ]
  },
  {
   "cell_type": "code",
   "execution_count": 17,
   "id": "41a87a02-4c53-4c78-8099-e92da8b5dee9",
   "metadata": {},
   "outputs": [
    {
     "data": {
      "image/png": "[encoded data removed]",
      "text/plain": [
       "<Figure size 432x288 with 1 Axes>"
      ]
     },
     "metadata": {
      "needs_background": "light"
     },
     "output_type": "display_data"
    }
   ],
   "source": [
    "sm.graphics.tsa.plot_acf(seasonal.diff().dropna().values.squeeze(), lags=20)\n",
    "plt.show()"
   ]
  },
  {
   "cell_type": "code",
   "execution_count": null,
   "id": "b6a69183-25b6-47d2-b75d-02543b841ba0",
   "metadata": {},
   "outputs": [],
   "source": []
  },
  {
   "cell_type": "code",
   "execution_count": null,
   "id": "16f3f05c-d2a8-401b-8a34-02cbf83b6d9c",
   "metadata": {},
   "outputs": [
    {
     "name": "stderr",
     "output_type": "stream",
     "text": [
      "/usr/local/lib/python3.7/site-packages/statsmodels/tsa/base/tsa_model.py:471: ValueWarning: A date index has been provided, but it has no associated frequency information and so will be ignored when e.g. forecasting.\n",
      "  self._init_dates(dates, freq)\n",
      "/usr/local/lib/python3.7/site-packages/statsmodels/tsa/base/tsa_model.py:471: ValueWarning: A date index has been provided, but it has no associated frequency information and so will be ignored when e.g. forecasting.\n",
      "  self._init_dates(dates, freq)\n"
     ]
    }
   ],
   "source": [
    "SARIMA_model = sm.tsa.statespace.SARIMAX(df_train['Count'], exog=df_train[['Is_Weekend','Is_peek_hour']] ,\n",
    "                                         order=(2, 1, 1),seasonal_order=(4, 1, 4, 24)).fit()\n",
    "SARIMA_model.summary()"
   ]
  },
  {
   "cell_type": "code",
   "execution_count": 11,
   "id": "c59ecd59-40a3-4850-8b95-76ac547dbf6b",
   "metadata": {},
   "outputs": [],
   "source": [
    "# test \n",
    "df_test = pd.read_csv('../Dataset/Test_0qrQsBZ.csv')"
   ]
  },
  {
   "cell_type": "code",
   "execution_count": 14,
   "id": "f50cbcd8-29f6-4710-9307-566e4fd2e2cf",
   "metadata": {},
   "outputs": [],
   "source": [
    "df_test['Datetime'] = pd.to_datetime(df_test['Datetime'])\n",
    "df_test = df_test.sort_values(by=['Datetime'])"
   ]
  },
  {
   "cell_type": "code",
   "execution_count": 15,
   "id": "c06593f8-b0b4-4f2b-98db-e0442fb9442f",
   "metadata": {},
   "outputs": [],
   "source": [
    "df_test[\"Is_Weekend\"] = df_test.Datetime.dt.day_name().isin(['Saturday', 'Sunday']).astype(int)\n",
    "df_test[\"Is_peek_hour\"] = df_test.Datetime.dt.hour.isin([10,11,12,13,14,15,16,17,18,19,20]).astype(int)"
   ]
  },
  {
   "cell_type": "code",
   "execution_count": 16,
   "id": "d7984d6a-2780-4854-a4be-1cf424f31191",
   "metadata": {},
   "outputs": [
    {
     "name": "stderr",
     "output_type": "stream",
     "text": [
      "/usr/local/lib/python3.7/site-packages/statsmodels/tsa/base/tsa_model.py:843: ValueWarning: No supported index is available. Prediction results will be given with an integer index beginning at `start`.\n",
      "  data=self.data,\n"
     ]
    }
   ],
   "source": [
    "df_pred = SARIMA_model.predict(start=18288, end=23399, exog=df_test[['Is_Weekend','Is_peek_hour']])"
   ]
  },
  {
   "cell_type": "code",
   "execution_count": 18,
   "id": "6a33aa1d-0e29-4253-b082-01e91113e588",
   "metadata": {},
   "outputs": [],
   "source": [
    "df_pred = df_pred.reset_index()\n",
    "df_pred.rename(columns={'predicted_mean': 'Count', 'index':'ID'},\n",
    "          inplace=True, errors='raise')"
   ]
  },
  {
   "cell_type": "code",
   "execution_count": 19,
   "id": "06d1c473-8fde-4d13-8ee8-37091f3ee6bb",
   "metadata": {},
   "outputs": [],
   "source": [
    "final = pd.merge(df_test,df_pred,on='ID')"
   ]
  },
  {
   "cell_type": "code",
   "execution_count": 20,
   "id": "b2644da1-7a22-4932-a85b-f2f0cfcb499c",
   "metadata": {},
   "outputs": [],
   "source": [
    "final[['ID','Count']].to_csv('auto_arima.csv',index=False)"
   ]
  },
  {
   "cell_type": "code",
   "execution_count": null,
   "id": "bc13381f-fa80-49f4-bc36-1d905fcaff34",
   "metadata": {},
   "outputs": [],
   "source": []
  }
 ],
 "metadata": {
  "kernelspec": {
   "display_name": "Python 3",
   "language": "python",
   "name": "python3"
  },
  "language_info": {
   "codemirror_mode": {
    "name": "ipython",
    "version": 3
   },
   "file_extension": ".py",
   "mimetype": "text/x-python",
   "name": "python",
   "nbconvert_exporter": "python",
   "pygments_lexer": "ipython3",
   "version": "3.7.3"
  }
 },
 "nbformat": 4,
 "nbformat_minor": 5
}
