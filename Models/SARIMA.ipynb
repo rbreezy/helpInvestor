{
 "cells": [
  {
   "cell_type": "code",
   "execution_count": 1,
   "id": "ad402576-42ba-4228-9c62-bf47470e26c1",
   "metadata": {},
   "outputs": [],
   "source": [
    "import pandas as pd\n",
    "import numpy as np\n",
    "import matplotlib.pyplot as plt\n",
    "import statsmodels.api as sm"
   ]
  },
  {
   "cell_type": "code",
   "execution_count": 2,
   "id": "55deceb4-9928-4c6d-9c57-3dec0cc7b3a2",
   "metadata": {},
   "outputs": [],
   "source": [
    "df_train = pd.read_csv('../Dataset/Train_SU63ISt.csv')"
   ]
  },
  {
   "cell_type": "code",
   "execution_count": 3,
   "id": "3ee29bda-90c2-4b6d-bfff-db56073c3b1b",
   "metadata": {},
   "outputs": [],
   "source": [
    "df_train['Datetime'] = pd.to_datetime(df_train['Datetime'])\n",
    "df_train = df_train.sort_values(by=['Datetime'])"
   ]
  },
  {
   "cell_type": "code",
   "execution_count": 5,
   "id": "7d96dad0-bbbd-425d-81b3-7032580ec41c",
   "metadata": {},
   "outputs": [
    {
     "data": {
      "image/png": "[encoded data removed]",
      "text/plain": [
       "<Figure size 432x288 with 1 Axes>"
      ]
     },
     "metadata": {
      "needs_background": "light"
     },
     "output_type": "display_data"
    }
   ],
   "source": [
    "sm.graphics.tsa.plot_acf(df_train['Count'].diff().dropna().values.squeeze(), lags=160)\n",
    "plt.show()"
   ]
  },
  {
   "cell_type": "code",
   "execution_count": 6,
   "id": "4718a573-f24a-44ce-b36c-37c0eb728208",
   "metadata": {},
   "outputs": [],
   "source": [
    "# from  the graph every 24 is higher correlation so S = 24"
   ]
  },
  {
   "cell_type": "code",
   "execution_count": 7,
   "id": "b0c3edf3-e8ad-45c6-b58a-17b865c3d23a",
   "metadata": {},
   "outputs": [
    {
     "name": "stderr",
     "output_type": "stream",
     "text": [
      "/usr/local/lib/python3.7/site-packages/statsmodels/tsa/base/tsa_model.py:214: ValueWarning: An unsupported index was provided and will be ignored when e.g. forecasting.\n",
      "  ' ignored when e.g. forecasting.', ValueWarning)\n",
      "/usr/local/lib/python3.7/site-packages/statsmodels/tsa/base/tsa_model.py:214: ValueWarning: An unsupported index was provided and will be ignored when e.g. forecasting.\n",
      "  ' ignored when e.g. forecasting.', ValueWarning)\n",
      "/usr/local/lib/python3.7/site-packages/statsmodels/tsa/statespace/sarimax.py:963: UserWarning: Non-stationary starting autoregressive parameters found. Using zeros as starting parameters.\n",
      "  warn('Non-stationary starting autoregressive parameters'\n",
      "/usr/local/lib/python3.7/site-packages/statsmodels/tsa/statespace/sarimax.py:975: UserWarning: Non-invertible starting MA parameters found. Using zeros as starting parameters.\n",
      "  warn('Non-invertible starting MA parameters found.'\n",
      "/usr/local/lib/python3.7/site-packages/statsmodels/base/model.py:568: ConvergenceWarning: Maximum Likelihood optimization failed to converge. Check mle_retvals\n",
      "  \"Check mle_retvals\", ConvergenceWarning)\n"
     ]
    },
    {
     "data": {
      "text/html": [
       "<table class=\"simpletable\">\n",
       "<caption>SARIMAX Results</caption>\n",
       "<tr>\n",
       "  <th>Dep. Variable:</th>                 <td>Count</td>              <th>  No. Observations:  </th>    <td>18288</td>  \n",
       "</tr>\n",
       "<tr>\n",
       "  <th>Model:</th>           <td>SARIMAX(3, 1, 4)x(1, 1, [1], 24)</td> <th>  Log Likelihood     </th> <td>-91257.199</td>\n",
       "</tr>\n",
       "<tr>\n",
       "  <th>Date:</th>                    <td>Wed, 30 Nov 2022</td>         <th>  AIC                </th> <td>182534.397</td>\n",
       "</tr>\n",
       "<tr>\n",
       "  <th>Time:</th>                        <td>14:01:05</td>             <th>  BIC                </th> <td>182612.523</td>\n",
       "</tr>\n",
       "<tr>\n",
       "  <th>Sample:</th>                          <td>0</td>                <th>  HQIC               </th> <td>182560.071</td>\n",
       "</tr>\n",
       "<tr>\n",
       "  <th></th>                             <td> - 18288</td>             <th>                     </th>      <td> </td>    \n",
       "</tr>\n",
       "<tr>\n",
       "  <th>Covariance Type:</th>                <td>opg</td>               <th>                     </th>      <td> </td>    \n",
       "</tr>\n",
       "</table>\n",
       "<table class=\"simpletable\">\n",
       "<tr>\n",
       "      <td></td>        <th>coef</th>     <th>std err</th>      <th>z</th>      <th>P>|z|</th>  <th>[0.025</th>    <th>0.975]</th>  \n",
       "</tr>\n",
       "<tr>\n",
       "  <th>ar.L1</th>    <td>   -0.8727</td> <td>    0.059</td> <td>  -14.731</td> <td> 0.000</td> <td>   -0.989</td> <td>   -0.757</td>\n",
       "</tr>\n",
       "<tr>\n",
       "  <th>ar.L2</th>    <td>    0.8018</td> <td>    0.017</td> <td>   47.037</td> <td> 0.000</td> <td>    0.768</td> <td>    0.835</td>\n",
       "</tr>\n",
       "<tr>\n",
       "  <th>ar.L3</th>    <td>    0.8450</td> <td>    0.055</td> <td>   15.382</td> <td> 0.000</td> <td>    0.737</td> <td>    0.953</td>\n",
       "</tr>\n",
       "<tr>\n",
       "  <th>ma.L1</th>    <td>    0.6185</td> <td>    0.059</td> <td>   10.423</td> <td> 0.000</td> <td>    0.502</td> <td>    0.735</td>\n",
       "</tr>\n",
       "<tr>\n",
       "  <th>ma.L2</th>    <td>   -1.0750</td> <td>    0.021</td> <td>  -51.580</td> <td> 0.000</td> <td>   -1.116</td> <td>   -1.034</td>\n",
       "</tr>\n",
       "<tr>\n",
       "  <th>ma.L3</th>    <td>   -0.7246</td> <td>    0.059</td> <td>  -12.326</td> <td> 0.000</td> <td>   -0.840</td> <td>   -0.609</td>\n",
       "</tr>\n",
       "<tr>\n",
       "  <th>ma.L4</th>    <td>    0.1816</td> <td>    0.010</td> <td>   17.772</td> <td> 0.000</td> <td>    0.162</td> <td>    0.202</td>\n",
       "</tr>\n",
       "<tr>\n",
       "  <th>ar.S.L24</th> <td>    0.0468</td> <td>    0.004</td> <td>   11.644</td> <td> 0.000</td> <td>    0.039</td> <td>    0.055</td>\n",
       "</tr>\n",
       "<tr>\n",
       "  <th>ma.S.L24</th> <td>   -0.9690</td> <td>    0.001</td> <td>-1039.035</td> <td> 0.000</td> <td>   -0.971</td> <td>   -0.967</td>\n",
       "</tr>\n",
       "<tr>\n",
       "  <th>sigma2</th>   <td> 1276.8104</td> <td>    3.878</td> <td>  329.212</td> <td> 0.000</td> <td> 1269.209</td> <td> 1284.412</td>\n",
       "</tr>\n",
       "</table>\n",
       "<table class=\"simpletable\">\n",
       "<tr>\n",
       "  <th>Ljung-Box (Q):</th>          <td>259.50</td> <th>  Jarque-Bera (JB):  </th> <td>529770.55</td>\n",
       "</tr>\n",
       "<tr>\n",
       "  <th>Prob(Q):</th>                 <td>0.00</td>  <th>  Prob(JB):          </th>   <td>0.00</td>   \n",
       "</tr>\n",
       "<tr>\n",
       "  <th>Heteroskedasticity (H):</th>  <td>12.65</td> <th>  Skew:              </th>   <td>1.86</td>   \n",
       "</tr>\n",
       "<tr>\n",
       "  <th>Prob(H) (two-sided):</th>     <td>0.00</td>  <th>  Kurtosis:          </th>   <td>29.12</td>  \n",
       "</tr>\n",
       "</table><br/><br/>Warnings:<br/>[1] Covariance matrix calculated using the outer product of gradients (complex-step)."
      ],
      "text/plain": [
       "<class 'statsmodels.iolib.summary.Summary'>\n",
       "\"\"\"\n",
       "                                      SARIMAX Results                                       \n",
       "============================================================================================\n",
       "Dep. Variable:                                Count   No. Observations:                18288\n",
       "Model:             SARIMAX(3, 1, 4)x(1, 1, [1], 24)   Log Likelihood              -91257.199\n",
       "Date:                              Wed, 30 Nov 2022   AIC                         182534.397\n",
       "Time:                                      14:01:05   BIC                         182612.523\n",
       "Sample:                                           0   HQIC                        182560.071\n",
       "                                            - 18288                                         \n",
       "Covariance Type:                                opg                                         \n",
       "==============================================================================\n",
       "                 coef    std err          z      P>|z|      [0.025      0.975]\n",
       "------------------------------------------------------------------------------\n",
       "ar.L1         -0.8727      0.059    -14.731      0.000      -0.989      -0.757\n",
       "ar.L2          0.8018      0.017     47.037      0.000       0.768       0.835\n",
       "ar.L3          0.8450      0.055     15.382      0.000       0.737       0.953\n",
       "ma.L1          0.6185      0.059     10.423      0.000       0.502       0.735\n",
       "ma.L2         -1.0750      0.021    -51.580      0.000      -1.116      -1.034\n",
       "ma.L3         -0.7246      0.059    -12.326      0.000      -0.840      -0.609\n",
       "ma.L4          0.1816      0.010     17.772      0.000       0.162       0.202\n",
       "ar.S.L24       0.0468      0.004     11.644      0.000       0.039       0.055\n",
       "ma.S.L24      -0.9690      0.001  -1039.035      0.000      -0.971      -0.967\n",
       "sigma2      1276.8104      3.878    329.212      0.000    1269.209    1284.412\n",
       "===================================================================================\n",
       "Ljung-Box (Q):                      259.50   Jarque-Bera (JB):            529770.55\n",
       "Prob(Q):                              0.00   Prob(JB):                         0.00\n",
       "Heteroskedasticity (H):              12.65   Skew:                             1.86\n",
       "Prob(H) (two-sided):                  0.00   Kurtosis:                        29.12\n",
       "===================================================================================\n",
       "\n",
       "Warnings:\n",
       "[1] Covariance matrix calculated using the outer product of gradients (complex-step).\n",
       "\"\"\""
      ]
     },
     "execution_count": 7,
     "metadata": {},
     "output_type": "execute_result"
    }
   ],
   "source": [
    "SARIMA_model = sm.tsa.statespace.SARIMAX(df_train['Count'], order=(3, 1, 4),seasonal_order=(1, 1, 1, 24)).fit()\n",
    "SARIMA_model.summary()"
   ]
  },
  {
   "cell_type": "code",
   "execution_count": 8,
   "id": "f711e9d5-087a-4a4e-8e39-ea639f2b0acf",
   "metadata": {},
   "outputs": [],
   "source": [
    "# test \n",
    "df_test = pd.read_csv('../Dataset/Test_0qrQsBZ.csv')"
   ]
  },
  {
   "cell_type": "code",
   "execution_count": 9,
   "id": "9af89f9f-d585-4d3d-ace3-fe0e8fc415bb",
   "metadata": {},
   "outputs": [
    {
     "name": "stderr",
     "output_type": "stream",
     "text": [
      "/usr/local/lib/python3.7/site-packages/statsmodels/tsa/base/tsa_model.py:583: ValueWarning: No supported index is available. Prediction results will be given with an integer index beginning at `start`.\n",
      "  ValueWarning)\n"
     ]
    }
   ],
   "source": [
    "df_pred = SARIMA_model.predict(start=18288, end=23399)"
   ]
  },
  {
   "cell_type": "code",
   "execution_count": 10,
   "id": "9f4df5e1-8628-4ad2-ad92-11ed3901eaab",
   "metadata": {},
   "outputs": [],
   "source": [
    "df_pred = df_pred.reset_index()\n",
    "df_pred.rename(columns={0: 'Count', 'index':'ID'},\n",
    "          inplace=True, errors='raise')"
   ]
  },
  {
   "cell_type": "code",
   "execution_count": 11,
   "id": "d610419f-7feb-4163-ad9d-27b499ddc04e",
   "metadata": {},
   "outputs": [],
   "source": [
    "final = pd.merge(df_test,df_pred,on='ID')"
   ]
  },
  {
   "cell_type": "code",
   "execution_count": 12,
   "id": "0bdf48ae-3b2e-4118-a50f-3ad84ab5dc79",
   "metadata": {},
   "outputs": [],
   "source": [
    "final[['ID','Count']].to_csv('SARIMA.csv',index=False)"
   ]
  },
  {
   "cell_type": "code",
   "execution_count": 13,
   "id": "95a2c102-508e-4e44-92ac-e2c8dee023e7",
   "metadata": {},
   "outputs": [],
   "source": [
    "# score = 306"
   ]
  },
  {
   "cell_type": "code",
   "execution_count": null,
   "id": "9f1f928e-ab90-4cbb-84b7-bc7b14c2885a",
   "metadata": {},
   "outputs": [],
   "source": []
  }
 ],
 "metadata": {
  "kernelspec": {
   "display_name": "Python 3",
   "language": "python",
   "name": "python3"
  },
  "language_info": {
   "codemirror_mode": {
    "name": "ipython",
    "version": 3
   },
   "file_extension": ".py",
   "mimetype": "text/x-python",
   "name": "python",
   "nbconvert_exporter": "python",
   "pygments_lexer": "ipython3",
   "version": "3.7.3"
  }
 },
 "nbformat": 4,
 "nbformat_minor": 5
}
