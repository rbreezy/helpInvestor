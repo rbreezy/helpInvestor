{
 "cells": [
  {
   "cell_type": "code",
   "execution_count": 1,
   "id": "d4b8c476",
   "metadata": {},
   "outputs": [],
   "source": [
    "import pandas as pd\n",
    "import numpy as np\n",
    "from sklearn.model_selection import train_test_split\n",
    "from xgboost import XGBRegressor"
   ]
  },
  {
   "cell_type": "code",
   "execution_count": 2,
   "id": "daddd608",
   "metadata": {},
   "outputs": [],
   "source": [
    "class dataTransformer:\n",
    "    '''Transformer class to transform the data'''\n",
    "    def __init__(self, col_name):\n",
    "        self.featue_col = col_name\n",
    "    \n",
    "    def deriveDayOfTheMonth(self, X):\n",
    "        X['day_of_month'] = X[self.featue_col].dt.day\n",
    "        return X\n",
    "    \n",
    "    def deriveDayOfTheYear(self, X):\n",
    "        X['day_of_year'] = X[self.featue_col].dt.dayofyear\n",
    "        return X\n",
    "    \n",
    "    def deriveDayOfWeek(self, X):\n",
    "        X['day_of_week'] = X[self.featue_col].dt.dayofweek\n",
    "        return X\n",
    "    \n",
    "    def deriveQuarter(self, X):\n",
    "        X['quarter'] = X[self.featue_col].dt.quarter\n",
    "        return X\n",
    "    \n",
    "    def deriveMonth(self, X):\n",
    "        X['month'] = X[self.featue_col].dt.month    \n",
    "        return X\n",
    "    \n",
    "    def deriveHour(self, X):\n",
    "        X['hour'] = X[self.featue_col].dt.hour\n",
    "        return X\n",
    "    \n",
    "    def deriveYear(self, X):\n",
    "        X['year'] = X[self.featue_col].dt.year\n",
    "        return X\n",
    "    \n",
    "    def deriveWeekOfYear(self, X):\n",
    "        X['weekofyear'] = X[self.featue_col].dt.weekofyear\n",
    "        return X\n",
    "    \n",
    "    def deriveIsWeekeend(self, X):\n",
    "        X[\"Is_Weekend\"] = X.Datetime.dt.day_name().isin(['Saturday', 'Sunday']).astype(int)\n",
    "        return X\n",
    "    \n",
    "    def transform(self, X, train = True):        \n",
    "        X = self.deriveDayOfTheMonth(X)\n",
    "        X = self.deriveDayOfTheYear(X)\n",
    "        X = self.deriveDayOfWeek(X)\n",
    "        X = self.deriveQuarter(X)\n",
    "        X = self.deriveMonth(X)\n",
    "        X = self.deriveHour(X)\n",
    "        X = self.deriveYear(X)\n",
    "        X = self.deriveWeekOfYear(X)\n",
    "        X = self.deriveIsWeekeend(X)\n",
    "        feat = X[['day_of_month','day_of_year','day_of_week','quarter','month',\n",
    "                      'hour','year','weekofyear','Is_Weekend']]\n",
    "        if train:\n",
    "            label = X[['Count']]\n",
    "            return feat, label\n",
    "        else:\n",
    "            return feat"
   ]
  },
  {
   "cell_type": "code",
   "execution_count": 3,
   "id": "cd1ab83f",
   "metadata": {},
   "outputs": [],
   "source": [
    "class model_def:\n",
    "    def train_test_split(self, X, y, size = 0.25):\n",
    "        train_X, test_X, train_y, test_y = train_test_split(X, y, test_size=size)\n",
    "        self.train_X = train_X\n",
    "        self.test_X = test_X\n",
    "        self.train_y = train_y\n",
    "        self.test_y = test_y\n",
    "        return\n",
    "    \n",
    "    def get_model(self, n_estimators=1000, learning_rate=0.05):\n",
    "        self.model = XGBRegressor(n_estimators=1000, learning_rate=0.05)\n",
    "        return\n",
    "    \n",
    "    def fit_model(self, verbose=False):\n",
    "        self.model.fit(self.train_X, self.train_y, \n",
    "             eval_set=[(self.test_X, self.test_y)], verbose=False)\n",
    "        return\n",
    "    \n",
    "    def predict_future(self, test_df):\n",
    "        self.predictions = self.model.predict(test_df)\n",
    "        return"
   ]
  },
  {
   "cell_type": "code",
   "execution_count": 10,
   "id": "beddb76e",
   "metadata": {},
   "outputs": [
    {
     "name": "stderr",
     "output_type": "stream",
     "text": [
      "/usr/local/lib/python3.7/site-packages/ipykernel_launcher.py:35: FutureWarning: Series.dt.weekofyear and Series.dt.week have been deprecated.  Please use Series.dt.isocalendar().week instead.\n"
     ]
    },
    {
     "name": "stdout",
     "output_type": "stream",
     "text": [
      "[12:14:56] WARNING: src/objective/regression_obj.cu:152: reg:linear is now deprecated in favor of reg:squarederror.\n"
     ]
    }
   ],
   "source": [
    "df_train = pd.read_csv('../Dataset/Train_SU63ISt.csv')\n",
    "df_train['Datetime'] = pd.to_datetime(df_train['Datetime'])\n",
    "transformer = dataTransformer(col_name='Datetime')\n",
    "X, y = transformer.transform(df_train, train = True)\n",
    "model = model_def()\n",
    "model.train_test_split(X, y)\n",
    "model.get_model()\n",
    "model.fit_model()\n",
    "df_test = pd.read_csv('../Dataset/Test_0qrQsBZ.csv')\n",
    "df_test['Datetime'] = pd.to_datetime(df_test['Datetime'])\n",
    "X_test = transformer.transform(df_test, train = False)\n",
    "model.predict_future(X_test)\n",
    "y = pd.DataFrame(model.predictions, columns = ['Count'])\n",
    "final = pd.concat([df_test['ID'],y],axis=1)\n",
    "final.to_csv('XG.csv',index=False)"
   ]
  },
  {
   "cell_type": "code",
   "execution_count": 11,
   "id": "e687b7cb",
   "metadata": {},
   "outputs": [
    {
     "data": {
      "text/plain": [
       "(5112, 2)"
      ]
     },
     "execution_count": 11,
     "metadata": {},
     "output_type": "execute_result"
    }
   ],
   "source": [
    "final.shape"
   ]
  },
  {
   "cell_type": "code",
   "execution_count": 12,
   "id": "68072660",
   "metadata": {},
   "outputs": [
    {
     "data": {
      "text/plain": [
       "(5112, 11)"
      ]
     },
     "execution_count": 12,
     "metadata": {},
     "output_type": "execute_result"
    }
   ],
   "source": [
    "df_test.shape"
   ]
  },
  {
   "cell_type": "code",
   "execution_count": null,
   "id": "076eb609",
   "metadata": {},
   "outputs": [],
   "source": []
  }
 ],
 "metadata": {
  "kernelspec": {
   "display_name": "Python 3",
   "language": "python",
   "name": "python3"
  },
  "language_info": {
   "codemirror_mode": {
    "name": "ipython",
    "version": 3
   },
   "file_extension": ".py",
   "mimetype": "text/x-python",
   "name": "python",
   "nbconvert_exporter": "python",
   "pygments_lexer": "ipython3",
   "version": "3.7.3"
  }
 },
 "nbformat": 4,
 "nbformat_minor": 5
}
