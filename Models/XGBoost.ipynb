{
 "cells": [
  {
   "cell_type": "code",
   "execution_count": 1,
   "id": "d4b8c476",
   "metadata": {},
   "outputs": [],
   "source": [
    "import pandas as pd\n",
    "import numpy as np\n",
    "from sklearn.model_selection import train_test_split\n",
    "from xgboost import XGBRegressor\n",
    "from xgboost import plot_importance, plot_tree\n",
    "from sklearn.model_selection import GridSearchCV\n",
    "import holidays"
   ]
  },
  {
   "cell_type": "code",
   "execution_count": 2,
   "id": "daddd608",
   "metadata": {},
   "outputs": [],
   "source": [
    "class dataTransformer:\n",
    "    '''Transformer class to transform the data'''\n",
    "    def __init__(self, col_name):\n",
    "        self.featue_col = col_name\n",
    "        \n",
    "    def deriveSeasons(self, X):\n",
    "        X['season'] = [month%12 // 3 + 1 for month in X[self.featue_col].dt.month]\n",
    "        return X\n",
    "        \n",
    "    def deriveBusinessHrs(self, X):\n",
    "        X['temp'] = [1 if ((x > 7) & (x < 18)) else 0 for x in X[self.featue_col].dt.hour]\n",
    "        X['business_hrs'] = [1 if ((x['temp'] == 1) & (x['public_holiday'] == 0)) else 0 for _,x in X.iterrows()]\n",
    "        return X\n",
    "        \n",
    "    def derivePublicHoliday(self, X):\n",
    "        us_holidays = holidays.US()\n",
    "        X['public_holiday'] = [1 if x in us_holidays else 0 for x in X[self.featue_col].dt.date]\n",
    "        return X\n",
    "    \n",
    "    def deriveDayOfTheMonth(self, X):\n",
    "        X['day_of_month'] = X[self.featue_col].dt.day\n",
    "        return X\n",
    "    \n",
    "    def deriveDayOfTheYear(self, X):\n",
    "        X['day_of_year'] = X[self.featue_col].dt.dayofyear\n",
    "        return X\n",
    "    \n",
    "    def deriveDayOfWeek(self, X):\n",
    "        X['day_of_week'] = X[self.featue_col].dt.dayofweek\n",
    "        return X\n",
    "    \n",
    "    def deriveQuarter(self, X):\n",
    "        X['quarter'] = X[self.featue_col].dt.quarter\n",
    "        return X\n",
    "    \n",
    "    def deriveMonth(self, X):\n",
    "        X['month'] = X[self.featue_col].dt.month    \n",
    "        return X\n",
    "    \n",
    "    def deriveHour(self, X):\n",
    "        X['hour'] = X[self.featue_col].dt.hour\n",
    "        return X\n",
    "    \n",
    "    def deriveYear(self, X):\n",
    "        X['year'] = X[self.featue_col].dt.year\n",
    "        return X\n",
    "    \n",
    "    def deriveWeekOfYear(self, X):\n",
    "        X['weekofyear'] = X[self.featue_col].dt.weekofyear\n",
    "        return X\n",
    "    \n",
    "    def deriveIsWeekeend(self, X):\n",
    "        X[\"Is_Weekend\"] = X.Datetime.dt.day_name().isin(['Saturday', 'Sunday']).astype(int)\n",
    "        return X\n",
    "    \n",
    "    def generated_lagged_features(self, X, var, max_lag, train = True):\n",
    "        X['Count_lag1_1'] = X[var].shift(24*1)\n",
    "        X['Count_lag1_2'] = X[var].shift(24*2)\n",
    "        X['Count_lag1_3'] = X[var].shift(24*3)\n",
    "        for t in range(1, max_lag+1):\n",
    "            X[var+'_lag'+str(t)] = X[var].shift(24*7*t)\n",
    "        return X\n",
    "    \n",
    "    def transform(self, X, train = True):\n",
    "        X = self.derivePublicHoliday(X)\n",
    "        X = self.deriveSeasons(X)\n",
    "        X = self.deriveBusinessHrs(X)\n",
    "        X = self.deriveDayOfTheMonth(X)\n",
    "        X = self.deriveDayOfTheYear(X)\n",
    "        X = self.deriveDayOfWeek(X)\n",
    "        X = self.deriveQuarter(X)\n",
    "        X = self.deriveMonth(X)\n",
    "        X = self.deriveHour(X)\n",
    "        X = self.deriveYear(X)\n",
    "        X = self.deriveWeekOfYear(X)\n",
    "        X = self.deriveIsWeekeend(X)\n",
    "        if train == True:\n",
    "            X = self.generated_lagged_features(X,'Count',24,train)\n",
    "            X = X.dropna()\n",
    "            feat = X[['day_of_month','day_of_year','day_of_week',\n",
    "                      'hour','Is_Weekend', 'Count_lag1_1','Count_lag1_2','Count_lag1_3',\n",
    "                 'Count_lag1','Count_lag2','Count_lag3','Count_lag4','Count_lag5','Count_lag6','Count_lag7',\n",
    "                'Count_lag8','Count_lag9','Count_lag10','Count_lag11','Count_lag12','Count_lag13','Count_lag14',\n",
    "                     'Count_lag15','Count_lag16','Count_lag17','Count_lag18','Count_lag19','Count_lag20',\n",
    "                     'Count_lag21','Count_lag22','Count_lag23','Count_lag24']]\n",
    "        else:\n",
    "            feat = X[['day_of_month','day_of_year','day_of_week',\n",
    "                      'hour','Is_Weekend']]\n",
    "        if train:\n",
    "            label = X[['Count']]\n",
    "            return feat, label\n",
    "        else:\n",
    "            return feat"
   ]
  },
  {
   "cell_type": "code",
   "execution_count": 3,
   "id": "cd1ab83f",
   "metadata": {},
   "outputs": [],
   "source": [
    "class model_def:\n",
    "    def train_test_split(self, X, y, size = 0.20):\n",
    "        train_X, test_X, train_y, test_y = train_test_split(X, y, test_size=size)\n",
    "        self.train_X = train_X\n",
    "        self.test_X = test_X\n",
    "        self.train_y = train_y\n",
    "        self.test_y = test_y\n",
    "        return\n",
    "    \n",
    "    def get_model(self):\n",
    "        self.model = XGBRegressor(n_estimators = 12000, learning_rate=0.001, early_stopping_rounds = 50)\n",
    "        return\n",
    "    \n",
    "    def fit_model(self, verbose=False):\n",
    "        self.model.fit(self.train_X, self.train_y, \n",
    "             eval_set=[(self.test_X, self.test_y)], verbose=100)\n",
    "        return\n",
    "    \n",
    "    def predict_future(self, test_df, y):\n",
    "        self.predictions = []\n",
    "        for _,x in test_df.iterrows():\n",
    "            x['Count_lag1_1'] = y.iloc[[y.shape[0]-1-24*1]]['Count'].iloc[0]\n",
    "            x['Count_lag1_2'] = y.iloc[[y.shape[0]-1-24*2]]['Count'].iloc[0]\n",
    "            x['Count_lag1_3'] = y.iloc[[y.shape[0]-1-24*3]]['Count'].iloc[0]\n",
    "            x['Count_lag1'] = y.iloc[[y.shape[0]-1-24*1*7]]['Count'].iloc[0]\n",
    "            x['Count_lag2'] = y.iloc[[y.shape[0]-1-24*2*7]]['Count'].iloc[0]\n",
    "            x['Count_lag3'] = y.iloc[[y.shape[0]-1-24*3*7]]['Count'].iloc[0]\n",
    "            x['Count_lag4'] = y.iloc[[y.shape[0]-1-24*4*7]]['Count'].iloc[0]\n",
    "            x['Count_lag5'] = y.iloc[[y.shape[0]-1-24*5*7]]['Count'].iloc[0]\n",
    "            x['Count_lag6'] = y.iloc[[y.shape[0]-1-24*6*7]]['Count'].iloc[0]\n",
    "            x['Count_lag7'] = y.iloc[[y.shape[0]-1-24*7*7]]['Count'].iloc[0]\n",
    "            x['Count_lag8'] = y.iloc[[y.shape[0]-1-24*8*7]]['Count'].iloc[0]\n",
    "            x['Count_lag9'] = y.iloc[[y.shape[0]-1-24*9*7]]['Count'].iloc[0]\n",
    "            x['Count_lag10'] = y.iloc[[y.shape[0]-1-24*10*7]]['Count'].iloc[0]\n",
    "            x['Count_lag11'] = y.iloc[[y.shape[0]-1-24*11*7]]['Count'].iloc[0]\n",
    "            x['Count_lag12'] = y.iloc[[y.shape[0]-1-24*12*7]]['Count'].iloc[0]\n",
    "            x['Count_lag13'] = y.iloc[[y.shape[0]-1-24*13*7]]['Count'].iloc[0]\n",
    "            x['Count_lag14'] = y.iloc[[y.shape[0]-1-24*14*7]]['Count'].iloc[0]\n",
    "            x['Count_lag15'] = y.iloc[[y.shape[0]-1-24*15*7]]['Count'].iloc[0]\n",
    "            x['Count_lag16'] = y.iloc[[y.shape[0]-1-24*16*7]]['Count'].iloc[0]\n",
    "            x['Count_lag17'] = y.iloc[[y.shape[0]-1-24*17*7]]['Count'].iloc[0]\n",
    "            x['Count_lag18'] = y.iloc[[y.shape[0]-1-24*18*7]]['Count'].iloc[0]\n",
    "            x['Count_lag19'] = y.iloc[[y.shape[0]-1-24*19*7]]['Count'].iloc[0]\n",
    "            x['Count_lag20'] = y.iloc[[y.shape[0]-1-24*20*7]]['Count'].iloc[0]\n",
    "            x['Count_lag21'] = y.iloc[[y.shape[0]-1-24*21*7]]['Count'].iloc[0]\n",
    "            x['Count_lag22'] = y.iloc[[y.shape[0]-1-24*22*7]]['Count'].iloc[0]\n",
    "            x['Count_lag23'] = y.iloc[[y.shape[0]-1-24*23*7]]['Count'].iloc[0]\n",
    "            x['Count_lag24'] = y.iloc[[y.shape[0]-1-24*24*7]]['Count'].iloc[0]\n",
    "            t = self.model.predict(pd.DataFrame(x).T)\n",
    "            self.predictions.append(t)\n",
    "            y = y.append(dict(zip(y.columns, t)), ignore_index=True)\n",
    "        return\n",
    "        \n",
    "        # simple\n",
    "        #self.predictions = self.model.predict(test_df)"
   ]
  },
  {
   "cell_type": "code",
   "execution_count": 4,
   "id": "565694c6",
   "metadata": {},
   "outputs": [],
   "source": [
    "def hyperParameterTuning(X_train, y_train):\n",
    "    param_tuning = {\n",
    "        'learning_rate': [0.001, 0.01, 0.1],\n",
    "        'max_depth': [3, 5, 7, 10],\n",
    "        'min_child_weight': [1, 3, 5],\n",
    "        'subsample': [0.5, 0.7],\n",
    "        'colsample_bytree': [0.5, 0.7],\n",
    "        'n_estimators' : [100, 200, 500],\n",
    "        'objective': ['reg:squarederror'],\n",
    "        'eval_metric': ['rmse']\n",
    "    }\n",
    "\n",
    "    xgb_model = XGBRegressor()\n",
    "\n",
    "    gsearch = GridSearchCV(estimator = xgb_model,\n",
    "                           param_grid = param_tuning,               \n",
    "                           cv = 5,\n",
    "                           n_jobs = -1,\n",
    "                           verbose = 1)\n",
    "\n",
    "    gsearch.fit(X_train,y_train)\n",
    "\n",
    "    return gsearch.best_params_"
   ]
  },
  {
   "cell_type": "code",
   "execution_count": 5,
   "id": "9ee41963",
   "metadata": {},
   "outputs": [
    {
     "name": "stderr",
     "output_type": "stream",
     "text": [
      "/usr/local/lib/python3.7/site-packages/ipykernel_launcher.py:49: FutureWarning: Series.dt.weekofyear and Series.dt.week have been deprecated.  Please use Series.dt.isocalendar().week instead.\n"
     ]
    }
   ],
   "source": [
    "df_train = pd.read_csv('../Dataset/Train_SU63ISt.csv')\n",
    "df_train['Datetime'] = pd.to_datetime(df_train['Datetime'])\n",
    "transformer = dataTransformer(col_name='Datetime')\n",
    "X, y = transformer.transform(df_train, train = True)"
   ]
  },
  {
   "cell_type": "code",
   "execution_count": 6,
   "id": "28fa0af8",
   "metadata": {},
   "outputs": [],
   "source": [
    "#hyperParameterTuning(X,y)"
   ]
  },
  {
   "cell_type": "code",
   "execution_count": 7,
   "id": "f122d19e",
   "metadata": {},
   "outputs": [
    {
     "data": {
      "text/plain": [
       "\"\\n{'colsample_bytree': 0.7,\\n 'eval_metric': 'rmse',\\n 'learning_rate': 0.001,\\n 'max_depth': 3,\\n 'min_child_weight': 1,\\n 'n_estimators': 200,\\n 'objective': 'reg:squarederror',\\n 'subsample': 0.5}\\n\""
      ]
     },
     "execution_count": 7,
     "metadata": {},
     "output_type": "execute_result"
    }
   ],
   "source": [
    "# best param\n",
    "\"\"\"\n",
    "{'colsample_bytree': 0.7,\n",
    " 'eval_metric': 'rmse',\n",
    " 'learning_rate': 0.001,\n",
    " 'max_depth': 3,\n",
    " 'min_child_weight': 1,\n",
    " 'n_estimators': 200,\n",
    " 'objective': 'reg:squarederror',\n",
    " 'subsample': 0.5}\n",
    "\"\"\""
   ]
  },
  {
   "cell_type": "code",
   "execution_count": 8,
   "id": "e0defe43-db10-4537-84b3-526019cc8de5",
   "metadata": {},
   "outputs": [
    {
     "name": "stdout",
     "output_type": "stream",
     "text": [
      "[08:39:25] WARNING: src/objective/regression_obj.cu:152: reg:linear is now deprecated in favor of reg:squarederror.\n",
      "[0]\tvalidation_0-rmse:233.028\n",
      "[100]\tvalidation_0-rmse:212.459\n",
      "[200]\tvalidation_0-rmse:194.013\n",
      "[300]\tvalidation_0-rmse:177.436\n",
      "[400]\tvalidation_0-rmse:162.524\n",
      "[500]\tvalidation_0-rmse:149.122\n",
      "[600]\tvalidation_0-rmse:137.089\n",
      "[700]\tvalidation_0-rmse:126.302\n",
      "[800]\tvalidation_0-rmse:116.633\n",
      "[900]\tvalidation_0-rmse:107.997\n",
      "[1000]\tvalidation_0-rmse:100.31\n",
      "[1100]\tvalidation_0-rmse:93.4537\n",
      "[1200]\tvalidation_0-rmse:87.3687\n",
      "[1300]\tvalidation_0-rmse:82.0079\n",
      "[1400]\tvalidation_0-rmse:77.3004\n",
      "[1500]\tvalidation_0-rmse:73.1858\n",
      "[1600]\tvalidation_0-rmse:69.6008\n",
      "[1700]\tvalidation_0-rmse:66.4558\n",
      "[1800]\tvalidation_0-rmse:63.7274\n",
      "[1900]\tvalidation_0-rmse:61.3911\n",
      "[2000]\tvalidation_0-rmse:59.3881\n",
      "[2100]\tvalidation_0-rmse:57.6728\n",
      "[2200]\tvalidation_0-rmse:56.2097\n",
      "[2300]\tvalidation_0-rmse:54.9657\n",
      "[2400]\tvalidation_0-rmse:53.9099\n",
      "[2500]\tvalidation_0-rmse:53.0207\n",
      "[2600]\tvalidation_0-rmse:52.254\n",
      "[2700]\tvalidation_0-rmse:51.6149\n",
      "[2800]\tvalidation_0-rmse:51.0874\n",
      "[2900]\tvalidation_0-rmse:50.6455\n",
      "[3000]\tvalidation_0-rmse:50.2714\n",
      "[3100]\tvalidation_0-rmse:49.9669\n",
      "[3200]\tvalidation_0-rmse:49.6998\n",
      "[3300]\tvalidation_0-rmse:49.4774\n",
      "[3400]\tvalidation_0-rmse:49.2836\n",
      "[3500]\tvalidation_0-rmse:49.105\n",
      "[3600]\tvalidation_0-rmse:48.9513\n",
      "[3700]\tvalidation_0-rmse:48.8052\n",
      "[3800]\tvalidation_0-rmse:48.6652\n",
      "[3900]\tvalidation_0-rmse:48.5512\n",
      "[4000]\tvalidation_0-rmse:48.4551\n",
      "[4100]\tvalidation_0-rmse:48.3672\n",
      "[4200]\tvalidation_0-rmse:48.2917\n",
      "[4300]\tvalidation_0-rmse:48.2437\n",
      "[4400]\tvalidation_0-rmse:48.2001\n",
      "[4500]\tvalidation_0-rmse:48.1633\n",
      "[4600]\tvalidation_0-rmse:48.1277\n",
      "[4700]\tvalidation_0-rmse:48.0925\n",
      "[4800]\tvalidation_0-rmse:48.0427\n",
      "[4900]\tvalidation_0-rmse:48.0082\n",
      "[5000]\tvalidation_0-rmse:47.9721\n",
      "[5100]\tvalidation_0-rmse:47.9385\n",
      "[5200]\tvalidation_0-rmse:47.9051\n",
      "[5300]\tvalidation_0-rmse:47.8708\n",
      "[5400]\tvalidation_0-rmse:47.8353\n",
      "[5500]\tvalidation_0-rmse:47.8047\n",
      "[5600]\tvalidation_0-rmse:47.7795\n",
      "[5700]\tvalidation_0-rmse:47.7563\n",
      "[5800]\tvalidation_0-rmse:47.7287\n",
      "[5900]\tvalidation_0-rmse:47.7036\n",
      "[6000]\tvalidation_0-rmse:47.6771\n",
      "[6100]\tvalidation_0-rmse:47.6534\n",
      "[6200]\tvalidation_0-rmse:47.6302\n",
      "[6300]\tvalidation_0-rmse:47.6087\n",
      "[6400]\tvalidation_0-rmse:47.5853\n",
      "[6500]\tvalidation_0-rmse:47.5629\n",
      "[6600]\tvalidation_0-rmse:47.5407\n",
      "[6700]\tvalidation_0-rmse:47.5193\n",
      "[6800]\tvalidation_0-rmse:47.4965\n",
      "[6900]\tvalidation_0-rmse:47.4706\n",
      "[7000]\tvalidation_0-rmse:47.4458\n",
      "[7100]\tvalidation_0-rmse:47.4208\n",
      "[7200]\tvalidation_0-rmse:47.4002\n",
      "[7300]\tvalidation_0-rmse:47.3801\n",
      "[7400]\tvalidation_0-rmse:47.3615\n",
      "[7500]\tvalidation_0-rmse:47.3412\n",
      "[7600]\tvalidation_0-rmse:47.3191\n",
      "[7700]\tvalidation_0-rmse:47.2948\n",
      "[7800]\tvalidation_0-rmse:47.2723\n",
      "[7900]\tvalidation_0-rmse:47.2513\n",
      "[8000]\tvalidation_0-rmse:47.2279\n",
      "[8100]\tvalidation_0-rmse:47.2043\n",
      "[8200]\tvalidation_0-rmse:47.18\n",
      "[8300]\tvalidation_0-rmse:47.1591\n",
      "[8400]\tvalidation_0-rmse:47.1393\n",
      "[8500]\tvalidation_0-rmse:47.1179\n",
      "[8600]\tvalidation_0-rmse:47.0991\n",
      "[8700]\tvalidation_0-rmse:47.0816\n",
      "[8800]\tvalidation_0-rmse:47.0619\n",
      "[8900]\tvalidation_0-rmse:47.0393\n",
      "[9000]\tvalidation_0-rmse:47.0196\n",
      "[9100]\tvalidation_0-rmse:46.9967\n",
      "[9200]\tvalidation_0-rmse:46.967\n",
      "[9300]\tvalidation_0-rmse:46.9369\n",
      "[9400]\tvalidation_0-rmse:46.9093\n",
      "[9500]\tvalidation_0-rmse:46.8774\n",
      "[9600]\tvalidation_0-rmse:46.8473\n",
      "[9700]\tvalidation_0-rmse:46.8167\n",
      "[9800]\tvalidation_0-rmse:46.7868\n",
      "[9900]\tvalidation_0-rmse:46.7607\n",
      "[10000]\tvalidation_0-rmse:46.7337\n",
      "[10100]\tvalidation_0-rmse:46.7071\n",
      "[10200]\tvalidation_0-rmse:46.6808\n",
      "[10300]\tvalidation_0-rmse:46.6571\n",
      "[10400]\tvalidation_0-rmse:46.634\n",
      "[10500]\tvalidation_0-rmse:46.6125\n",
      "[10600]\tvalidation_0-rmse:46.594\n",
      "[10700]\tvalidation_0-rmse:46.5744\n",
      "[10800]\tvalidation_0-rmse:46.5556\n",
      "[10900]\tvalidation_0-rmse:46.5363\n",
      "[11000]\tvalidation_0-rmse:46.5183\n",
      "[11100]\tvalidation_0-rmse:46.5012\n",
      "[11200]\tvalidation_0-rmse:46.483\n",
      "[11300]\tvalidation_0-rmse:46.4671\n",
      "[11400]\tvalidation_0-rmse:46.4505\n",
      "[11500]\tvalidation_0-rmse:46.4301\n",
      "[11600]\tvalidation_0-rmse:46.4106\n",
      "[11700]\tvalidation_0-rmse:46.3888\n",
      "[11800]\tvalidation_0-rmse:46.3664\n",
      "[11900]\tvalidation_0-rmse:46.3472\n",
      "[11999]\tvalidation_0-rmse:46.3255\n"
     ]
    }
   ],
   "source": [
    "model = model_def()\n",
    "model.train_test_split(X, y)\n",
    "model.get_model()\n",
    "model.fit_model()"
   ]
  },
  {
   "cell_type": "code",
   "execution_count": 9,
   "id": "3ffc217d-250e-4230-86b2-fa36917aa600",
   "metadata": {},
   "outputs": [],
   "source": [
    "df_test = pd.read_csv('../Dataset/Test_0qrQsBZ.csv')\n",
    "df_test['Datetime'] = pd.to_datetime(df_test['Datetime'])"
   ]
  },
  {
   "cell_type": "code",
   "execution_count": 10,
   "id": "c68a07a4-053a-48d6-a181-7c42a9e21e1a",
   "metadata": {},
   "outputs": [
    {
     "name": "stderr",
     "output_type": "stream",
     "text": [
      "/usr/local/lib/python3.7/site-packages/ipykernel_launcher.py:49: FutureWarning: Series.dt.weekofyear and Series.dt.week have been deprecated.  Please use Series.dt.isocalendar().week instead.\n"
     ]
    }
   ],
   "source": [
    "X_test = transformer.transform(df_test, train = False)"
   ]
  },
  {
   "cell_type": "code",
   "execution_count": 11,
   "id": "3ea0fa8d-6e76-42e8-b8db-09c1958c248d",
   "metadata": {},
   "outputs": [],
   "source": [
    "model.predict_future(X_test,y)"
   ]
  },
  {
   "cell_type": "code",
   "execution_count": 12,
   "id": "cd104c62-37b4-4f00-b71c-4da2ed36bb48",
   "metadata": {},
   "outputs": [],
   "source": [
    "y = pd.DataFrame(model.predictions, columns = ['Count'])\n",
    "final = pd.concat([df_test['ID'],y],axis=1)\n",
    "final.to_csv('XG.csv',index=False)"
   ]
  },
  {
   "cell_type": "code",
   "execution_count": 14,
   "id": "076eb609",
   "metadata": {},
   "outputs": [
    {
     "data": {
      "text/plain": [
       "<matplotlib.axes._subplots.AxesSubplot at 0x1382d2cc0>"
      ]
     },
     "execution_count": 14,
     "metadata": {},
     "output_type": "execute_result"
    },
    {
     "data": {
      "image/png": "[encoded data removed]",
      "text/plain": [
       "<Figure size 432x288 with 1 Axes>"
      ]
     },
     "metadata": {
      "needs_background": "light"
     },
     "output_type": "display_data"
    }
   ],
   "source": [
    "plot_importance(model.model, height=0.9)"
   ]
  },
  {
   "cell_type": "code",
   "execution_count": null,
   "id": "3b112b14-f0e7-4fcc-a8e1-f63990093f10",
   "metadata": {},
   "outputs": [],
   "source": []
  }
 ],
 "metadata": {
  "kernelspec": {
   "display_name": "Python 3",
   "language": "python",
   "name": "python3"
  },
  "language_info": {
   "codemirror_mode": {
    "name": "ipython",
    "version": 3
   },
   "file_extension": ".py",
   "mimetype": "text/x-python",
   "name": "python",
   "nbconvert_exporter": "python",
   "pygments_lexer": "ipython3",
   "version": "3.7.3"
  }
 },
 "nbformat": 4,
 "nbformat_minor": 5
}
